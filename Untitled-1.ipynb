{
 "cells": [
  {
   "cell_type": "code",
   "execution_count": 2,
   "metadata": {},
   "outputs": [
    {
     "data": {
      "text/plain": [
       "([(np.int64(0), np.int64(1)),\n",
       "  (np.int64(1), np.int64(3)),\n",
       "  (np.int64(2), np.int64(2)),\n",
       "  (np.int64(3), np.int64(0))],\n",
       " np.int64(15))"
      ]
     },
     "execution_count": 2,
     "metadata": {},
     "output_type": "execute_result"
    }
   ],
   "source": [
    "# Re-import necessary libraries and run the calculation again\n",
    "import numpy as np\n",
    "from scipy.optimize import linear_sum_assignment\n",
    "\n",
    "# Distance matrix from the new image\n",
    "distance_matrix = np.array([[14, 5, 8, 7],\n",
    "                            [2, 12, 6, 5],\n",
    "                            [7, 8, 3, 9],\n",
    "                            [2, 4, 6, 10],\n",
    "                            ])\n",
    "\n",
    "# Use the Hungarian Algorithm (also called linear sum assignment)\n",
    "row_ind, col_ind = linear_sum_assignment(distance_matrix)\n",
    "\n",
    "# Calculate the optimal assignment and total distance\n",
    "optimal_assignment_dist = list(zip(row_ind, col_ind))\n",
    "total_distance = distance_matrix[row_ind, col_ind].sum()\n",
    "\n",
    "optimal_assignment_dist, total_distance\n"
   ]
  }
 ],
 "metadata": {
  "kernelspec": {
   "display_name": "Python 3",
   "language": "python",
   "name": "python3"
  },
  "language_info": {
   "codemirror_mode": {
    "name": "ipython",
    "version": 3
   },
   "file_extension": ".py",
   "mimetype": "text/x-python",
   "name": "python",
   "nbconvert_exporter": "python",
   "pygments_lexer": "ipython3",
   "version": "3.12.4"
  }
 },
 "nbformat": 4,
 "nbformat_minor": 2
}
